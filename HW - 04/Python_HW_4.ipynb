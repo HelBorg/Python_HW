{
 "cells": [
  {
   "cell_type": "markdown",
   "metadata": {},
   "source": [
    " Заменить в тексте ​ hypothesis на ​ conjecture ​ (не забудьте про множественные числа) "
   ]
  },
  {
   "cell_type": "code",
   "execution_count": 1,
   "metadata": {},
   "outputs": [],
   "source": [
    "file = open('multistability.tex', 'r')\n",
    "data = file.read() \\\n",
    "    .replace('hypothesises', 'conjectures') \\\n",
    "    .replace('hypothesis', 'conjecture')\n",
    "\n",
    "f = open('multistability_replace.tex', 'w')\n",
    "f.write(data)\n",
    "f.close()\n",
    "file.close()"
   ]
  },
  {
   "cell_type": "markdown",
   "metadata": {},
   "source": [
    "Увеличить размер ВСЕГО текста на 2 (отвечает команда ​ \\fontsize​ ) a. Что если стили прописаны в другом файле (*.cls)? b. Что если в самом *.tex файле? "
   ]
  },
  {
   "cell_type": "code",
   "execution_count": 3,
   "metadata": {},
   "outputs": [],
   "source": [
    "import re\n",
    "\n",
    "file = open('ifacconf.cls', 'r')\n",
    "f = open('ifacconf_change_font.cls', 'w')\n",
    "for line in file:\n",
    "    if re.search(r'\\\\fontsize', line):\n",
    "        ar = re.split(r'(\\d+)', line)\n",
    "        for i in range(len(ar)):\n",
    "            if ar[i].isdigit():\n",
    "                ar[i] = str(int(ar[i]) + 1)\n",
    "        f.write(''.join(map(str, ar)))\n",
    "    else:\n",
    "        f.write(line)\n",
    "f.close()\n",
    "file.close()"
   ]
  },
  {
   "cell_type": "markdown",
   "metadata": {},
   "source": [
    " Извлечь из текста структуру (​ section​ , ​ subsection​ , ...) и сгенерировать a. doc-файл, содержащий структуру заголовков и подзаголовков,      выравненную символами табуляции. b. tex-файл, собирающийся без ошибок и в результате сборки сохраняются         стили исходного файла, а в тексте статьи (начиная с Introduction)          остаются только заголовки. "
   ]
  },
  {
   "cell_type": "code",
   "execution_count": 11,
   "metadata": {},
   "outputs": [
    {
     "data": {
      "text/plain": [
       "0"
      ]
     },
     "execution_count": 11,
     "metadata": {},
     "output_type": "execute_result"
    }
   ],
   "source": [
    "import os\n",
    "import re\n",
    "\n",
    "file = open('multistability.tex', 'r')\n",
    "f = open('multistability_doc.tex', 'w')\n",
    "flag = True\n",
    "for line in file:\n",
    "    if line == '\\\\begin{document}\\n':\n",
    "        flag = False\n",
    "        f.write(line)\n",
    "    if bool(re.search(r'section{', line)) | flag:\n",
    "        f.write(line)\n",
    "f.write('\\\\end{document}\\n')\n",
    "f.close()\n",
    "file.close()\n",
    "os.system(\"pandoc multistability_doc.tex -s -o multistability.docx\")"
   ]
  }
 ],
 "metadata": {
  "kernelspec": {
   "display_name": "Python 3",
   "language": "python",
   "name": "python3"
  },
  "language_info": {
   "codemirror_mode": {
    "name": "ipython",
    "version": 3
   },
   "file_extension": ".py",
   "mimetype": "text/x-python",
   "name": "python",
   "nbconvert_exporter": "python",
   "pygments_lexer": "ipython3",
   "version": "3.7.3"
  }
 },
 "nbformat": 4,
 "nbformat_minor": 2
}
