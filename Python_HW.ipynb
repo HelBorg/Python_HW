{
 "cells": [
  {
   "cell_type": "markdown",
   "metadata": {},
   "source": [
    "# Home work 1\n",
    "## Задание № 3\n",
    "\n",
    "0. Вспомните разложение функций $sin$, $cos$, $ln$, $e$ в ряд Тейлора\n",
    "1. Напишите функции, высчитывающие значение функции от аргумента $x$ через частичную сумму ряда до $n$-го члена, где $n$ - вход функции (значение по умолчанию = 30). Пример:\n",
    "```python\n",
    "    def my_cos(x, ...):\n",
    "        ...\n",
    "```\n",
    "2. Проверьте работу для комплексного аргумента\n",
    "3. (Необязательное) Запишите формулы в Markdown ячейке \n",
    "4. (Необязательное) Можете поиграться с точностью и посравнивать с реализациями из математических пакетов math, cmath"
   ]
  },
  {
   "cell_type": "code",
   "execution_count": 26,
   "metadata": {},
   "outputs": [
    {
     "name": "stdout",
     "output_type": "stream",
     "text": [
      "-0.9999987317275388\n",
      "-0.9999987317275388\n",
      "-0.9999987317275395\n"
     ]
    }
   ],
   "source": [
    "from math import factorial, cos\n",
    "\n",
    "def my_cos(x, n = 30):\n",
    "    cos = 0;\n",
    "    for i in range(n):\n",
    "        cos += pow(-1, i)*pow(x,2*i)/factorial(2*i)\n",
    "    return cos\n",
    "\n",
    "def my_sin(x, n = 30):\n",
    "    sin = 0\n",
    "    for i in range(n):\n",
    "        sin += pow(-1, i)*pow(x, 2*i + 1)/factorial(2*i + 1)\n",
    "    return sin\n",
    "\n",
    "def my_ln(x, n = 30):\n",
    "    ln = 0\n",
    "    for i in range(n):\n",
    "        ln += pow(-1, i+1)*pow(x-1, i)/factorial(i)\n",
    "    return ln\n",
    "\n",
    "def my_e(x, n = 30):\n",
    "    e = 0\n",
    "    for i in range(n):\n",
    "        e += pow(x,n)/factorial(i)\n",
    "    return e\n",
    "\n",
    "print(my_cos(3.14, 15))\n",
    "print(my_cos(3.14, 86))\n",
    "print(cos(3.14))"
   ]
  },
  {
   "cell_type": "markdown",
   "metadata": {},
   "source": [
    "# Home work 2"
   ]
  },
  {
   "cell_type": "markdown",
   "metadata": {},
   "source": [
    "## Задание № 1\n",
    "\n",
    "Напишите функцию, которой на вход подаются \n",
    "- начальное целое значение ($a$, по умолчанию = 1000) \n",
    "- конечное целое значение ($b$, по умолчанию = 5000). \n",
    "\n",
    "Программа должна вывести список всех чисел между $a$ и $b$, в записи которых только чётные числа."
   ]
  },
  {
   "cell_type": "code",
   "execution_count": 27,
   "metadata": {},
   "outputs": [
    {
     "name": "stdout",
     "output_type": "stream",
     "text": [
      "[1000, 5000]:\n",
      "\n",
      "[2000, 2002, 2004, 2006, 2008, 2020, 2022, 2024, 2026, 2028, 2040, 2042, 2044, 2046, 2048, 2060, 2062, 2064, 2066, 2068, 2080, 2082, 2084, 2086, 2088, 2200, 2202, 2204, 2206, 2208, 2220, 2222, 2224, 2226, 2228, 2240, 2242, 2244, 2246, 2248, 2260, 2262, 2264, 2266, 2268, 2280, 2282, 2284, 2286, 2288, 2400, 2402, 2404, 2406, 2408, 2420, 2422, 2424, 2426, 2428, 2440, 2442, 2444, 2446, 2448, 2460, 2462, 2464, 2466, 2468, 2480, 2482, 2484, 2486, 2488, 2600, 2602, 2604, 2606, 2608, 2620, 2622, 2624, 2626, 2628, 2640, 2642, 2644, 2646, 2648, 2660, 2662, 2664, 2666, 2668, 2680, 2682, 2684, 2686, 2688, 2800, 2802, 2804, 2806, 2808, 2820, 2822, 2824, 2826, 2828, 2840, 2842, 2844, 2846, 2848, 2860, 2862, 2864, 2866, 2868, 2880, 2882, 2884, 2886, 2888, 4000, 4002, 4004, 4006, 4008, 4020, 4022, 4024, 4026, 4028, 4040, 4042, 4044, 4046, 4048, 4060, 4062, 4064, 4066, 4068, 4080, 4082, 4084, 4086, 4088, 4200, 4202, 4204, 4206, 4208, 4220, 4222, 4224, 4226, 4228, 4240, 4242, 4244, 4246, 4248, 4260, 4262, 4264, 4266, 4268, 4280, 4282, 4284, 4286, 4288, 4400, 4402, 4404, 4406, 4408, 4420, 4422, 4424, 4426, 4428, 4440, 4442, 4444, 4446, 4448, 4460, 4462, 4464, 4466, 4468, 4480, 4482, 4484, 4486, 4488, 4600, 4602, 4604, 4606, 4608, 4620, 4622, 4624, 4626, 4628, 4640, 4642, 4644, 4646, 4648, 4660, 4662, 4664, 4666, 4668, 4680, 4682, 4684, 4686, 4688, 4800, 4802, 4804, 4806, 4808, 4820, 4822, 4824, 4826, 4828, 4840, 4842, 4844, 4846, 4848, 4860, 4862, 4864, 4866, 4868, 4880, 4882, 4884, 4886, 4888]\n",
      "\n",
      "\n",
      "[-20, 100]:\n",
      "\n",
      "[-20, -8, -6, -4, -2, 0, 2, 4, 6, 8, 20, 22, 24, 26, 28, 40, 42, 44, 46, 48, 60, 62, 64, 66, 68, 80, 82, 84, 86, 88]\n"
     ]
    }
   ],
   "source": [
    "import re\n",
    "\n",
    "def even(a=1000, b=5000):\n",
    "    result = []\n",
    "    for i in range(a, b):\n",
    "        if int(re.sub('[2468]', '0', str(i))) == 0:\n",
    "            result.append(i)\n",
    "    return result\n",
    "            \n",
    "print(\"[1000, 5000]:\\n\\n\" + str(even()))\n",
    "print(\"\\n\\n[-20, 100]:\\n\\n\" + str(even(-20, 100)))"
   ]
  },
  {
   "cell_type": "markdown",
   "metadata": {},
   "source": [
    "## Задание № 2\n",
    "\n",
    "Напишите функцию от двух аргументов $n$, $m$, которая выводит каждый $m$-е из первых $n$ строк треугольника Паскаля.\n",
    "\n",
    "Примеры вызовов: \n",
    "```python\n",
    "    pascal_triangle(10)\n",
    "```\n",
    "должен вывести первые 10 строк;\n",
    "\n",
    "\n",
    "```python\n",
    "    pascal_triangle(10, step = 3)\n",
    "```\n",
    "должен вывести 1, 4, 7, 10 строки.\n",
    "\n",
    "```python\n",
    "    pascal_triangle(10, 3)\n",
    "```\n",
    "Ошибка TypeError                                 \n",
    "\n",
    "__Подсказка__: может понадобится функция __zip__. Она позволяет итерироваться сразу по нескольким итерируемым объектам:\n",
    "\n",
    "```python\n",
    "a = [10, 20, 30, 40]\n",
    "b = ['a', 'b', 'c', 'd', 'e']\n",
    "c = [1.0, 3.0, 5.0, 8.0, 9.0, 11.0]\n",
    "for i, j, k in zip(a, b, c):\n",
    "     print(i, j, k)\n",
    "```"
   ]
  },
  {
   "cell_type": "code",
   "execution_count": 28,
   "metadata": {},
   "outputs": [
    {
     "name": "stdout",
     "output_type": "stream",
     "text": [
      "[[1], [1, 1], [1, 2, 1], [1, 3, 3, 1]]\n"
     ]
    }
   ],
   "source": [
    "def pascal_triangle(n, step = 1):\n",
    "    row = []\n",
    "    for i in range(0, n+1, step):\n",
    "        row.append(get_row(i + 1))\n",
    "    return row\n",
    "\n",
    "\n",
    "def get_row(n):\n",
    "    row = []\n",
    "    if n == 1: return [1]\n",
    "    prev_row = get_row(n - 1)\n",
    "    for i in range(n):\n",
    "        if i == 0 or i == n - 1:\n",
    "            row.append(1)\n",
    "        else:\n",
    "            row.append(prev_row[i - 1] + prev_row[i])\n",
    "    return row\n",
    "\n",
    "print(pascal_triangle(3))"
   ]
  },
  {
   "cell_type": "markdown",
   "metadata": {},
   "source": [
    "## Задание № 3\n",
    "\n",
    "Напишите функцию, принимающую произвольное число произвольных аргументов и возвращающая словарь с парами \n",
    "```\n",
    "<название_типа данных>: <количество элементов этого типа данных среди переданных аргументов> \n",
    "```"
   ]
  },
  {
   "cell_type": "code",
   "execution_count": 29,
   "metadata": {},
   "outputs": [
    {
     "name": "stdout",
     "output_type": "stream",
     "text": [
      "{'int': 1, 'str': 2, 'float': 2}\n"
     ]
    }
   ],
   "source": [
    "def types_dict(*args):\n",
    "    response = {}\n",
    "    for k in args:\n",
    "        if response.get(type(k).__name__) == None:\n",
    "            response[type(k).__name__] = 1\n",
    "        else:\n",
    "            response[type(k).__name__] += 1\n",
    "    return response\n",
    "\n",
    "print(types_dict(372, 'rrr', 99.7, 'er', 34.0))"
   ]
  },
  {
   "cell_type": "markdown",
   "metadata": {},
   "source": [
    "# Home work 3"
   ]
  },
  {
   "cell_type": "markdown",
   "metadata": {},
   "source": [
    "## Задача № 1\n",
    "\n",
    "Дан массив чисел, содержащий значение температуры за последний 10 дней (сгенерируйте массив чисел с плавающей точкой от 10 до 25).\n",
    "\n",
    "- Рассчитайте массив чисел, который содежит соответствующие значения в [Фаренгейтах](https://ru.wikipedia.org/wiki/%D0%93%D1%80%D0%B0%D0%B4%D1%83%D1%81_%D0%A4%D0%B0%D1%80%D0%B5%D0%BD%D0%B3%D0%B5%D0%B9%D1%82%D0%B0).\n",
    "\n",
    "- Рассчитайте массив чисел, который преобразует значения в Фаренгейтах в значения по [Кельвину](https://ru.wikipedia.org/wiki/%D0%9A%D0%B5%D0%BB%D1%8C%D0%B2%D0%B8%D0%BD)\n",
    "\n",
    "- Значения по Кельвину преобразуйте в градусы Цельсия и сравните полученный результат с исходным массивом (выведите разность)."
   ]
  },
  {
   "cell_type": "code",
   "execution_count": 30,
   "metadata": {},
   "outputs": [
    {
     "name": "stdout",
     "output_type": "stream",
     "text": [
      "[22.80348087 22.08007298 24.52264833 18.86759727 14.78925303 20.78561326\n",
      " 15.98198977 22.1960445  13.78598129 17.25296719]\n",
      "[73.04626557 71.74413136 76.14076699 65.96167508 58.62065546 69.41410387\n",
      " 60.76758158 71.9528801  56.81476632 63.05534094]\n",
      "[295.95348087 295.23007298 297.67264833 292.01759727 287.93925303\n",
      " 293.93561326 289.13198977 295.3460445  286.93598129 290.40296719]\n",
      "[ 1.77635684e-14  1.42108547e-14 -2.13162821e-14 -2.84217094e-14\n",
      "  0.00000000e+00 -1.42108547e-14  1.77635684e-15 -7.10542736e-15\n",
      " -8.88178420e-15  7.10542736e-15]\n"
     ]
    }
   ],
   "source": [
    "import numpy as np\n",
    "\n",
    "tempC = 15 * np.random.random_sample((10,)) + 10\n",
    "print(tempC)\n",
    "\n",
    "tempF = 9/5*tempC + 32\n",
    "print(tempF)\n",
    "\n",
    "tempK = (tempF - 32)*5/9 + 273.15\n",
    "print(tempK)\n",
    "\n",
    "tempC_2 = tempK - 273.15\n",
    "print(tempC_2 - tempC)"
   ]
  },
  {
   "cell_type": "markdown",
   "metadata": {},
   "source": [
    "# Задача № 2\n",
    "\n",
    "Дан словарь.\n",
    "Напишите функцию, которая возвращает словарь, состоящий из элементов исходного с ключами типа String.\n",
    "\n",
    "Например:  \n",
    "\n",
    "`Вход`: \n",
    "```python\n",
    "{'x':2, 4:'y', 4.0:'12', '3':'fdfs', 'a':9., b'pp':52}\n",
    "```\n",
    "\n",
    "`Выход`:\n",
    "```python\n",
    "{'x': 2, '3': 'fdfs', 'a': 9.0}\n",
    "```"
   ]
  },
  {
   "cell_type": "code",
   "execution_count": 31,
   "metadata": {},
   "outputs": [
    {
     "name": "stdout",
     "output_type": "stream",
     "text": [
      "{'x': 2, '3': 'fdfs', 'a': 9.0}\n"
     ]
    }
   ],
   "source": [
    "request = {'x':2, 4:'y', 4.0:'12', '3':'fdfs', 'a':9., b'pp':52}\n",
    "response = dict(filter(lambda x: isinstance(x[0], str), request.items()))\n",
    "print(response)"
   ]
  },
  {
   "cell_type": "markdown",
   "metadata": {},
   "source": [
    "# Задача № 3\n",
    "\n",
    "- Сгенерируйте два массива $a$ и $b$ одинаковой случайной длины $n$ (от 4 до 8 чисел) случайных чисел от 1 до 10\n",
    "- Посчитайте $\\prod\\limits_{i = 0}^{n-1} (a[i] + b[n-1-i])$, используя только функции __map, zip, filter, reduce__"
   ]
  },
  {
   "cell_type": "code",
   "execution_count": 32,
   "metadata": {},
   "outputs": [
    {
     "name": "stdout",
     "output_type": "stream",
     "text": [
      "n = 6\n",
      "a = [4 8 2 3 9 7]\n",
      "b = [5 2 3 4 8 1]\n",
      "\n",
      "Result = 380160\n"
     ]
    }
   ],
   "source": [
    "import functools\n",
    "import random\n",
    "\n",
    "n = random.randint(4, 8)\n",
    "a = np.random.randint(1, 10, n)\n",
    "b = np.random.randint(1, 10, n)\n",
    "\n",
    "result = functools.reduce(lambda x, y: x * y, map(lambda x, y: x + y, a, b[::-1]))\n",
    "print(\"n = \" + str(n) + \"\\na = \" + str(a) + \"\\nb = \" + str(b))\n",
    "print(\"\\nResult = \" + str(result))"
   ]
  },
  {
   "cell_type": "code",
   "execution_count": null,
   "metadata": {},
   "outputs": [],
   "source": []
  }
 ],
 "metadata": {
  "kernelspec": {
   "display_name": "Python 3",
   "language": "python",
   "name": "python3"
  },
  "language_info": {
   "codemirror_mode": {
    "name": "ipython",
    "version": 3
   },
   "file_extension": ".py",
   "mimetype": "text/x-python",
   "name": "python",
   "nbconvert_exporter": "python",
   "pygments_lexer": "ipython3",
   "version": "3.7.3"
  }
 },
 "nbformat": 4,
 "nbformat_minor": 2
}
